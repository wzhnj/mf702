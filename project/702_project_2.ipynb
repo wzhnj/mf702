{
 "cells": [
  {
   "cell_type": "markdown",
   "metadata": {},
   "source": [
    "We first set up the environment.\n",
    "First use momentum as the example did.\n",
    "We get the `max excess_return ` Inline code which is `0.059646077829002` from the `TsPerformance` function."
   ]
  },
  {
   "cell_type": "code",
   "execution_count": null,
   "metadata": {},
   "outputs": [],
   "source": [
    "# Setting up environment\n",
    "import datetime as dtm\n",
    "from sigtech.framework import base_imports as sig\n",
    "\n",
    "if not sig.config.is_initialised():\n",
    "    sig.init(log_level='ERROR', env_date=dtm.datetime(2020, 6, 1, 11, 0))\n",
    "    sig.config.set(sig.config.HISTORY_SCHEDULE_BUILD_FROM_DATA, True)\n",
    "\n",
    "%matplotlib inline"
   ]
  },
  {
   "cell_type": "code",
   "execution_count": 2,
   "metadata": {},
   "outputs": [
    {
     "data": {
      "text/plain": [
       "USD HO COMDTY LONG F_0 RF STRATEGY <class 'sigtech.framework.strategies.rolling_future_strategy.RollingFutureStrategy'>[139714465181072]"
      ]
     },
     "execution_count": 2,
     "metadata": {},
     "output_type": "execute_result"
    }
   ],
   "source": [
    "from sigtech.framework.default_strategy_objects.rolling_futures import ho_comdty_f_0\n",
    "\n",
    "ho_rf_usd_strat = sig.obj.get(ho_comdty_f_0().name)\n",
    "ho_rf_usd_strat"
   ]
  },
  {
   "cell_type": "code",
   "execution_count": 3,
   "metadata": {},
   "outputs": [],
   "source": [
    "import numpy as np\n",
    "import pandas as pd\n",
    "import sigtech.framework.signal.library as lib\n",
    "\n",
    "\n",
    "def construct_momentum_strategy(underlying_obj_name: str, window_length: int):\n",
    "    ''' Constructs a SMA-based momentum strategy with a given window length. '''\n",
    "\n",
    "    # Get return\n",
    "    signal_ts = sig.obj.get(underlying_obj_name).history().diff(window_length)\n",
    "\n",
    "    # Create df with column name equal to underlying object name\n",
    "    signal_ts = pd.DataFrame({underlying_obj_name: signal_ts})\n",
    "\n",
    "    # Get sign of returns\n",
    "    signal_ts = np.sign(signal_ts).dropna()\n",
    "\n",
    "    # Create signal object, can be passed around between researchers\n",
    "    signal_obj = lib.from_ts(signal_ts)\n",
    "\n",
    "    return sig.SignalStrategy(\n",
    "        start_date=dtm.date(2010, 1, 4),\n",
    "        currency='USD',\n",
    "        signal_name=signal_obj.name,\n",
    "        rebalance_frequency='EOM',\n",
    "        allocation_function=lib.allocation.identity,\n",
    "        leverage=1,\n",
    "    )"
   ]
  },
  {
   "cell_type": "code",
   "execution_count": 4,
   "metadata": {},
   "outputs": [
    {
     "data": {
      "text/plain": [
       "<matplotlib.lines.Line2D at 0x7f119dacd1d0>"
      ]
     },
     "execution_count": 4,
     "metadata": {},
     "output_type": "execute_result"
    },
    {
     "data": {
      "image/png": "[encoded data removed]",
      "text/plain": [
       "<Figure size 432x288 with 1 Axes>"
      ]
     },
     "metadata": {},
     "output_type": "display_data"
    }
   ],
   "source": [
    "from sigtech.framework.analytics.performance.metrics import sharpe_ratio\n",
    "import matplotlib.pyplot as plt\n",
    "plt.style.use('ggplot')\n",
    "\n",
    "# Generate window lengths as powers of 2\n",
    "x = [2**i for i in range(3, 12)]\n",
    "\n",
    "# Generate resulting Sharpe ratios\n",
    "y = [sharpe_ratio(\n",
    "    construct_momentum_strategy(ho_rf_usd_strat.name, w).history())\n",
    "    for w in x]\n",
    "\n",
    "# Plot results and annotate chart\n",
    "fig, ax = plt.subplots()\n",
    "ax.scatter(x, y)\n",
    "ax.set_title('Sharpe versus Momentum Window Length')\n",
    "ax.set_xlabel('Momentum Window Length')\n",
    "ax.set_ylabel('Strategy Sharpe')\n",
    "ax.axhline(y=0., linestyle='--')"
   ]
  },
  {
   "cell_type": "code",
   "execution_count": 55,
   "metadata": {},
   "outputs": [
    {
     "name": "stdout",
     "output_type": "stream",
     "text": [
      "0.059646077829002\n"
     ]
    }
   ],
   "source": [
    "import math\n",
    "from sigtech.framework.analytics.performance.performance_report import TsPerformance\n",
    "excess_return=[]\n",
    "for w in x:\n",
    "    excess_return.append(TsPerformance(construct_momentum_strategy(ho_rf_usd_strat.name, w).history().to_frame('SMA-based momentum strategy')).excess_return()[0])\n",
    "print(max(excess_return))\n"
   ]
  },
  {
   "cell_type": "markdown",
   "metadata": {},
   "source": [
    "To compare with our own strategy, we also test the two example.\n",
    "This is the mmr strategy.\n",
    "We get the `max excess_return` which is `0.07395` at the biggest sharpe ratio."
   ]
  },
  {
   "cell_type": "code",
   "execution_count": 7,
   "metadata": {},
   "outputs": [],
   "source": [
    "def calculate_sharpe_mmr_strategy(\n",
    "        underlying_obj_name: str,\n",
    "        momentum_window_length: int,\n",
    "        meanrev_window_length: int):\n",
    "    \"\"\" Constructs a combined Momentum and Mean Reversion strategy on a given underlying. \"\"\"\n",
    "\n",
    "    # Identical lengths of windows will cancel out, ignore them\n",
    "    if momentum_window_length == meanrev_window_length:\n",
    "        return 0.\n",
    "\n",
    "    # Get history of underlyer\n",
    "    obj_history = sig.obj.get(underlying_obj_name).history()\n",
    "\n",
    "    # Create momentum and mean reversion signals and combine them\n",
    "    signal_momentum = obj_history.pct_change().rolling(\n",
    "        window=momentum_window_length).mean()\n",
    "    signal_meanrev = -obj_history.pct_change().rolling(window=meanrev_window_length).mean()\n",
    "    signal_ts = signal_momentum + signal_meanrev\n",
    "\n",
    "    # Create df with column name equal to underlying object name\n",
    "    signal_ts = pd.DataFrame({underlying_obj_name: signal_ts})\n",
    "\n",
    "    # Get sign of returns\n",
    "    signal_ts = np.sign(signal_ts).dropna()\n",
    "\n",
    "    # Create signal object, can be passed around between researchers\n",
    "    signal_obj = lib.from_ts(signal_ts)\n",
    "\n",
    "    strategy = sig.SignalStrategy(\n",
    "        start_date=dtm.date(2010, 1, 4),\n",
    "        currency='USD',\n",
    "        signal_name=signal_obj.name,\n",
    "        rebalance_frequency='EOM',\n",
    "        allocation_function=lib.allocation.identity,\n",
    "        leverage=1,\n",
    "    )\n",
    "\n",
    "    return sharpe_ratio(strategy.history())"
   ]
  },
  {
   "cell_type": "code",
   "execution_count": 8,
   "metadata": {},
   "outputs": [
    {
     "data": {
      "text/plain": [
       "Text(0, 0.5, 'Sharpe Ratio')"
      ]
     },
     "execution_count": 8,
     "metadata": {},
     "output_type": "execute_result"
    },
    {
     "data": {
      "image/png": "[encoded data removed]",
      "text/plain": [
       "<Figure size 432x288 with 2 Axes>"
      ]
     },
     "metadata": {},
     "output_type": "display_data"
    }
   ],
   "source": [
    "# Generate window lengths in specific ranges\n",
    "mom_ws = [2**i for i in range(3, 12)]\n",
    "mr_ws = range(2, 21, 2)\n",
    "\n",
    "# Generate resulting Sharpe ratios in a 2D array\n",
    "z = np.matrix([[calculate_sharpe_mmr_strategy(ho_rf_usd_strat.name, w1, w2)\n",
    "                for w1 in mom_ws] for w2 in mr_ws])\n",
    "\n",
    "# Plot results and annotate chart\n",
    "fig, ax = plt.subplots()\n",
    "plot = ax.contourf(mom_ws, mr_ws, z)\n",
    "ax.set_title('Sharpe versus Momentum and Mean Reversion Window Lengths')\n",
    "ax.set_xlabel('Momentum Window Length')\n",
    "ax.set_ylabel('Mean Reversion Window Length')\n",
    "cbar = fig.colorbar(plot, ax=ax)\n",
    "cbar.ax.set_ylabel('Sharpe Ratio')"
   ]
  },
  {
   "cell_type": "code",
   "execution_count": 57,
   "metadata": {},
   "outputs": [
    {
     "name": "stdout",
     "output_type": "stream",
     "text": [
      "8 32\n"
     ]
    }
   ],
   "source": [
    "max_ind = np.unravel_index(np.argmax(z, axis=None), z.shape)\n",
    "max_ind_mr=mr_ws[max_ind[0]]\n",
    "max_ind_mom=mom_ws[max_ind[1]]\n",
    "print(max_ind_mr,max_ind_mom)"
   ]
  },
  {
   "cell_type": "code",
   "execution_count": 16,
   "metadata": {},
   "outputs": [],
   "source": [
    "def construct_mmr_strategy(\n",
    "        underlying_obj_name: str,\n",
    "        momentum_window_length: int,\n",
    "        meanrev_window_length: int):\n",
    "    \"\"\" Constructs a combined Momentum and Mean Reversion strategy on a given underlying. \"\"\"\n",
    "\n",
    "    # Identical lengths of windows will cancel out, ignore them\n",
    "    if momentum_window_length == meanrev_window_length:\n",
    "        return 0.\n",
    "\n",
    "    # Get history of underlyer\n",
    "    obj_history = sig.obj.get(underlying_obj_name).history()\n",
    "\n",
    "    # Create momentum and mean reversion signals and combine them\n",
    "    signal_momentum = obj_history.pct_change().rolling(\n",
    "        window=momentum_window_length).mean()\n",
    "    signal_meanrev = -obj_history.pct_change().rolling(window=meanrev_window_length).mean()\n",
    "    signal_ts = signal_momentum + signal_meanrev\n",
    "\n",
    "    # Create df with column name equal to underlying object name\n",
    "    signal_ts = pd.DataFrame({underlying_obj_name: signal_ts})\n",
    "\n",
    "    # Get sign of returns\n",
    "    signal_ts = np.sign(signal_ts).dropna()\n",
    "\n",
    "    # Create signal object, can be passed around between researchers\n",
    "    signal_obj = lib.from_ts(signal_ts)\n",
    "\n",
    "    return sig.SignalStrategy(\n",
    "        start_date=dtm.date(2010, 1, 4),\n",
    "        currency='USD',\n",
    "        signal_name=signal_obj.name,\n",
    "        rebalance_frequency='EOM',\n",
    "        allocation_function=lib.allocation.identity,\n",
    "        leverage=1,\n",
    "    )\n",
    "\n",
    "    "
   ]
  },
  {
   "cell_type": "code",
   "execution_count": 58,
   "metadata": {},
   "outputs": [
    {
     "data": {
      "text/plain": [
       "mmr_strategy    0.07395\n",
       "Name: Annualised Excess Return, dtype: object"
      ]
     },
     "execution_count": 58,
     "metadata": {},
     "output_type": "execute_result"
    }
   ],
   "source": [
    "TsPerformance(construct_mmr_strategy(ho_rf_usd_strat.name, max_ind_mom, max_ind_mr).history().to_frame('mmr_strategy')).excess_return()"
   ]
  },
  {
   "cell_type": "markdown",
   "metadata": {},
   "source": [
    "Here is our first strategy.\n",
    "We think that the meanrev is not as significant as momentum, thus we lower the weight of `meanrev` by multiplying it by `0.9`.\n",
    "And we get an excessive return of `0.115524` which is higher than `0.07395` in the example"
   ]
  },
  {
   "cell_type": "code",
   "execution_count": 70,
   "metadata": {},
   "outputs": [],
   "source": [
    "def calculate_sharpe_own_1_strategy(\n",
    "        underlying_obj_name: str,\n",
    "        momentum_window_length: int,\n",
    "        meanrev_window_length: int):\n",
    "    \"\"\" Constructs a combined Momentum and Mean Reversion strategy on a given underlying. \"\"\"\n",
    "\n",
    "    # Identical lengths of windows will cancel out, ignore them\n",
    "    if momentum_window_length == meanrev_window_length:\n",
    "        return 0.\n",
    "\n",
    "    # Get history of underlyer\n",
    "    obj_history = sig.obj.get(underlying_obj_name).history()\n",
    "\n",
    "    # Create momentum and mean reversion signals and combine them\n",
    "    signal_momentum = obj_history.pct_change().rolling(\n",
    "        window=momentum_window_length).mean()\n",
    "    signal_meanrev = -obj_history.pct_change().rolling(window=meanrev_window_length).mean()\n",
    "    signal_ts = signal_momentum + 0.9*signal_meanrev\n",
    "\n",
    "    # Create df with column name equal to underlying object name\n",
    "    signal_ts = pd.DataFrame({underlying_obj_name: signal_ts})\n",
    "\n",
    "    # Get sign of returns\n",
    "    signal_ts = np.sign(signal_ts).dropna()\n",
    "\n",
    "    # Create signal object, can be passed around between researchers\n",
    "    signal_obj = lib.from_ts(signal_ts)\n",
    "\n",
    "    strategy = sig.SignalStrategy(\n",
    "        start_date=dtm.date(2010, 1, 4),\n",
    "        currency='USD',\n",
    "        signal_name=signal_obj.name,\n",
    "        rebalance_frequency='EOM',\n",
    "        allocation_function=lib.allocation.identity,\n",
    "        leverage=1,\n",
    "    )\n",
    "\n",
    "    return sharpe_ratio(strategy.history())"
   ]
  },
  {
   "cell_type": "code",
   "execution_count": 71,
   "metadata": {},
   "outputs": [
    {
     "data": {
      "text/plain": [
       "Text(0, 0.5, 'Sharpe Ratio')"
      ]
     },
     "execution_count": 71,
     "metadata": {},
     "output_type": "execute_result"
    },
    {
     "data": {
      "image/png": "[encoded data removed]",
      "text/plain": [
       "<Figure size 432x288 with 2 Axes>"
      ]
     },
     "metadata": {},
     "output_type": "display_data"
    }
   ],
   "source": [
    "# Generate window lengths in specific ranges\n",
    "mom_ws = [2**i for i in range(3, 12)]\n",
    "mr_ws = range(2, 21, 2)\n",
    "\n",
    "# Generate resulting Sharpe ratios in a 2D array\n",
    "z = np.matrix([[calculate_sharpe_own_1_strategy(ho_rf_usd_strat.name, w1, w2)\n",
    "                for w1 in mom_ws] for w2 in mr_ws])\n",
    "\n",
    "# Plot results and annotate chart\n",
    "fig, ax = plt.subplots()\n",
    "plot = ax.contourf(mom_ws, mr_ws, z)\n",
    "ax.set_title('Sharpe versus Momentum and Mean Reversion Window Lengths')\n",
    "ax.set_xlabel('Momentum Window Length')\n",
    "ax.set_ylabel('Mean Reversion Window Length')\n",
    "cbar = fig.colorbar(plot, ax=ax)\n",
    "cbar.ax.set_ylabel('Sharpe Ratio')"
   ]
  },
  {
   "cell_type": "code",
   "execution_count": 72,
   "metadata": {},
   "outputs": [
    {
     "name": "stdout",
     "output_type": "stream",
     "text": [
      "8 32\n"
     ]
    }
   ],
   "source": [
    "max_ind = np.unravel_index(np.argmax(z, axis=None), z.shape)\n",
    "max_ind_mr=mr_ws[max_ind[0]]\n",
    "max_ind_mom=mom_ws[max_ind[1]]\n",
    "print(max_ind_mr,max_ind_mom)"
   ]
  },
  {
   "cell_type": "code",
   "execution_count": 73,
   "metadata": {},
   "outputs": [],
   "source": [
    "def construct_own_1_strategy(\n",
    "        underlying_obj_name: str,\n",
    "        momentum_window_length: int,\n",
    "        meanrev_window_length: int):\n",
    "    \"\"\" Constructs a combined Momentum and Mean Reversion strategy on a given underlying. \"\"\"\n",
    "\n",
    "    # Identical lengths of windows will cancel out, ignore them\n",
    "    if momentum_window_length == meanrev_window_length:\n",
    "        return 0.\n",
    "\n",
    "    # Get history of underlyer\n",
    "    obj_history = sig.obj.get(underlying_obj_name).history()\n",
    "\n",
    "    # Create momentum and mean reversion signals and combine them\n",
    "    signal_momentum = obj_history.pct_change().rolling(\n",
    "        window=momentum_window_length).mean()\n",
    "    signal_meanrev = -obj_history.pct_change().rolling(window=meanrev_window_length).mean()\n",
    "    signal_ts = signal_momentum + 0.9*signal_meanrev\n",
    "\n",
    "    # Create df with column name equal to underlying object name\n",
    "    signal_ts = pd.DataFrame({underlying_obj_name: signal_ts})\n",
    "\n",
    "    # Get sign of returns\n",
    "    signal_ts = np.sign(signal_ts).dropna()\n",
    "\n",
    "    # Create signal object, can be passed around between researchers\n",
    "    signal_obj = lib.from_ts(signal_ts)\n",
    "\n",
    "    return sig.SignalStrategy(\n",
    "        start_date=dtm.date(2010, 1, 4),\n",
    "        currency='USD',\n",
    "        signal_name=signal_obj.name,\n",
    "        rebalance_frequency='EOM',\n",
    "        allocation_function=lib.allocation.identity,\n",
    "        leverage=1,\n",
    "    )"
   ]
  },
  {
   "cell_type": "code",
   "execution_count": 74,
   "metadata": {},
   "outputs": [
    {
     "data": {
      "text/plain": [
       "own_strategy    0.115524\n",
       "Name: Annualised Excess Return, dtype: object"
      ]
     },
     "execution_count": 74,
     "metadata": {},
     "output_type": "execute_result"
    }
   ],
   "source": [
    "TsPerformance(construct_own_1_strategy(ho_rf_usd_strat.name, max_ind_mom, max_ind_mr).history().to_frame('own_strategy')).excess_return()"
   ]
  },
  {
   "cell_type": "markdown",
   "metadata": {},
   "source": [
    "Here is our second strategy.\n",
    "We think that 4 pairs of difference will improve the model.\n",
    "However upon execution, we cannot get a result maybe because there are too many calculation and need too much time to compute. \n",
    " "
   ]
  },
  {
   "cell_type": "code",
   "execution_count": 64,
   "metadata": {},
   "outputs": [],
   "source": [
    "def construct_own_strategy(\n",
    "        underlying_obj_name: str,\n",
    "        momentum_window_length_1: int,\n",
    "        momentum_window_length_2: int,\n",
    "        meanrev_window_length_1: int,\n",
    "        meanrev_window_length_2: int):\n",
    "    \"\"\" Constructs a combined Momentum and Mean Reversion strategy on a given underlying. \"\"\"\n",
    "\n",
    "    # Identical lengths of windows will cancel out, ignore them\n",
    "    if ((momentum_window_length_1 == momentum_window_length_2) or \n",
    "        (momentum_window_length_1 == meanrev_window_length_1) or \n",
    "        (momentum_window_length_1 == meanrev_window_length_2) or \n",
    "        (momentum_window_length_2 == meanrev_window_length_1) or \n",
    "        (momentum_window_length_2 == meanrev_window_length_2) or \n",
    "        (meanrev_window_length_1 == meanrev_window_length_2)):\n",
    "        return 0.\n",
    "\n",
    "    # Get history of underlyer\n",
    "    obj_history = sig.obj.get(underlying_obj_name).history()\n",
    "\n",
    "    # Create momentum and mean reversion signals and combine them\n",
    "    signal_momentum_1 = obj_history.pct_change().rolling(\n",
    "        window=momentum_window_length_1).mean()\n",
    "    signal_momentum_2 = obj_history.pct_change().rolling(\n",
    "        window=momentum_window_length_2).mean()\n",
    "    signal_meanrev_1 = -obj_history.pct_change().rolling(window=meanrev_window_length_1).mean()\n",
    "    signal_meanrev_2 = -obj_history.pct_change().rolling(window=meanrev_window_length_2).mean()\n",
    "    signal_ts = signal_momentum_1 + signal_momentum_2 + signal_meanrev_1 + signal_meanrev_2\n",
    "\n",
    "    # Create df with column name equal to underlying object name\n",
    "    signal_ts = pd.DataFrame({underlying_obj_name: signal_ts})\n",
    "\n",
    "    # Get sign of returns\n",
    "    signal_ts = np.sign(signal_ts).dropna()\n",
    "\n",
    "    # Create signal object, can be passed around between researchers\n",
    "    signal_obj = lib.from_ts(signal_ts)\n",
    "\n",
    "    return sig.SignalStrategy(\n",
    "        start_date=dtm.date(2010, 1, 4),\n",
    "        currency='USD',\n",
    "        signal_name=signal_obj.name,\n",
    "        rebalance_frequency='EOM',\n",
    "        allocation_function=lib.allocation.identity,\n",
    "        leverage=1,\n",
    "    )"
   ]
  },
  {
   "cell_type": "code",
   "execution_count": 65,
   "metadata": {},
   "outputs": [],
   "source": [
    "def calculate_sharpe_own_strategy(\n",
    "        underlying_obj_name: str,\n",
    "        momentum_window_length_1: int,\n",
    "        momentum_window_length_2: int,\n",
    "        meanrev_window_length_1: int,\n",
    "        meanrev_window_length_2: int):\n",
    "    \"\"\" Constructs a combined Momentum and Mean Reversion strategy on a given underlying. \"\"\"\n",
    "\n",
    "    # Identical lengths of windows will cancel out, ignore them\n",
    "    if ((momentum_window_length_1 == momentum_window_length_2) or \n",
    "        (momentum_window_length_1 == meanrev_window_length_1) or \n",
    "        (momentum_window_length_1 == meanrev_window_length_2) or \n",
    "        (momentum_window_length_2 == meanrev_window_length_1) or \n",
    "        (momentum_window_length_2 == meanrev_window_length_2) or \n",
    "        (meanrev_window_length_1 == meanrev_window_length_2)):\n",
    "        return 0.\n",
    "\n",
    "    # Get history of underlyer\n",
    "    obj_history = sig.obj.get(underlying_obj_name).history()\n",
    "\n",
    "    # Create momentum and mean reversion signals and combine them\n",
    "    signal_momentum_1 = obj_history.pct_change().rolling(\n",
    "        window=momentum_window_length_1).mean()\n",
    "    signal_momentum_2 = obj_history.pct_change().rolling(\n",
    "        window=momentum_window_length_2).mean()\n",
    "    signal_meanrev_1 = -obj_history.pct_change().rolling(window=meanrev_window_length_1).mean()\n",
    "    signal_meanrev_2 = -obj_history.pct_change().rolling(window=meanrev_window_length_2).mean()\n",
    "    signal_ts = signal_momentum_1 + signal_momentum_2 + signal_meanrev_1 + signal_meanrev_2\n",
    "\n",
    "    # Create df with column name equal to underlying object name\n",
    "    signal_ts = pd.DataFrame({underlying_obj_name: signal_ts})\n",
    "\n",
    "    # Get sign of returns\n",
    "    signal_ts = np.sign(signal_ts).dropna()\n",
    "\n",
    "    # Create signal object, can be passed around between researchers\n",
    "    signal_obj = lib.from_ts(signal_ts)\n",
    "\n",
    "    \n",
    "    strategy = sig.SignalStrategy(\n",
    "        start_date=dtm.date(2010, 1, 4),\n",
    "        currency='USD',\n",
    "        signal_name=signal_obj.name,\n",
    "        rebalance_frequency='EOM',\n",
    "        allocation_function=lib.allocation.identity,\n",
    "        leverage=1,\n",
    "    )\n",
    "\n",
    "    return sharpe_ratio(strategy.history())"
   ]
  },
  {
   "cell_type": "code",
   "execution_count": null,
   "metadata": {},
   "outputs": [],
   "source": [
    "# Generate window lengths in specific ranges\n",
    "mom_ws_1 = [2**i for i in range(3, 4)]\n",
    "mr_ws_1 = range(2, 21, 10)\n",
    "mom_ws_2 = [2**i for i in range(3, 4)]\n",
    "mr_ws_2 = range(2, 21, 10)\n",
    "\n",
    "# Generate resulting Sharpe ratios in a 2D array\n",
    "z = np.matrix([[[[calculate_sharpe_own_strategy(ho_rf_usd_strat.name, w1, w2,w3,w4)\n",
    "                for w1 in mom_ws_1] for w2 in mom_ws_2]for w3 in mr_ws_1] for w4 in mr_ws_2])\n",
    "max_ind = np.unravel_index(np.argmax(z, axis=None), z.shape)\n",
    "print(max_ind)\n",
    "max_ind_mr_1=mr_ws_1[max_ind[0]]\n",
    "max_ind_mr_2=mr_ws_1[max_ind[1]]\n",
    "max_ind_mom_1=mom_ws_2[max_ind[2]]\n",
    "max_ind_mom_2=mom_ws_2[max_ind[3]]\n",
    "TsPerformance(construct_mmr_strategy(ho_rf_usd_strat.name, max_ind_mom_1,max_ind_mom_2,max_ind_mr_1, max_ind_mr_2).history().to_frame('own_strategy')).excess_return()"
   ]
  },
  {
   "cell_type": "code",
   "execution_count": null,
   "metadata": {},
   "outputs": [],
   "source": []
  }
 ],
 "metadata": {
  "kernelspec": {
   "display_name": "Python 3",
   "language": "python",
   "name": "python3"
  },
  "language_info": {
   "codemirror_mode": {
    "name": "ipython",
    "version": 3
   },
   "file_extension": ".py",
   "mimetype": "text/x-python",
   "name": "python",
   "nbconvert_exporter": "python",
   "pygments_lexer": "ipython3",
   "version": "3.7.4"
  },
  "sig_file_name": "bfea1bb7-6a6e-4e62-9af1-38e4ff4d9b0d/file/702§702hw1_2.ipynb"
 },
 "nbformat": 4,
 "nbformat_minor": 2
}
