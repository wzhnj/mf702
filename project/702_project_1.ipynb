{
 "cells": [
  {
   "cell_type": "markdown",
   "metadata": {},
   "source": [
    "# Parameter Analysis and Optimising for Sharpe"
   ]
  },
  {
   "cell_type": "markdown",
   "metadata": {},
   "source": [
    "In the following code, we set up the environment with the correct date time and "
   ]
  },
  {
   "cell_type": "code",
   "execution_count": 18,
   "metadata": {},
   "outputs": [],
   "source": [
    "import datetime as dtm\n",
    "from sigtech.framework import base_imports as sig\n",
    "\n",
    "if not sig.config.is_initialised():\n",
    "    sig.init(log_level='ERROR', env_date=dtm.datetime(2020, 6, 1, 11, 0))\n",
    "    sig.config.set(sig.config.HISTORY_SCHEDULE_BUILD_FROM_DATA, True)\n",
    "\n",
    "%matplotlib inline"
   ]
  },
  {
   "cell_type": "markdown",
   "metadata": {},
   "source": [
    "In the following code, we used `import RollingFutureStrategy` to get NY Harbor Heating Oil from it"
   ]
  },
  {
   "cell_type": "code",
   "execution_count": 24,
   "metadata": {},
   "outputs": [],
   "source": [
    "from sigtech.framework.default_strategy_objects.rolling_futures import ho_comdty_f_0"
   ]
  },
  {
   "cell_type": "markdown",
   "metadata": {},
   "source": [
    "In the following code, `ho_comdty_f_0().name` is the name of the rolling future strategy\n",
    "which is a string\n",
    "which is USD HO COMDTY LONG F_0 RF STRATEGY\n",
    "\n",
    "`sig.obj.get(strategy name)` can get the RollingFutureStrategy from name. Since we already have the `ho_comdty_f_0()` which is the RollingFutureStrategy,\n",
    "we don't need to get the name and get the RollingFutureStrategy back.\n",
    "we can just write\n",
    "`ho_rf_usd_strat = ho_comdty_f_0()`"
   ]
  },
  {
   "cell_type": "code",
   "execution_count": 25,
   "metadata": {},
   "outputs": [
    {
     "data": {
      "text/plain": [
       "USD HO COMDTY LONG F_0 RF STRATEGY <class 'sigtech.framework.strategies.rolling_future_strategy.RollingFutureStrategy'>[139946084189200]"
      ]
     },
     "execution_count": 25,
     "metadata": {},
     "output_type": "execute_result"
    }
   ],
   "source": [
    "ho_rf_usd_strat = sig.obj.get(ho_comdty_f_0().name)\n",
    "ho_rf_usd_strat"
   ]
  },
  {
   "cell_type": "markdown",
   "metadata": {},
   "source": [
    "In the next section of code, we first `import` some packages first that are needed later in this code snippet.\n",
    "\n",
    "Then it create a function which could return SMA-based momentum strategy by inputting `obj_name` and `window_length`\n",
    "\n",
    "In this function \n",
    "\n",
    "`sig.obj.get(underlying_obj_name).history()`\n",
    "\n",
    "`return` the daily price\n",
    "\n",
    "`signal_ts = sig.obj.get(underlying_obj_name).history().diff(window_length)`\n",
    "gets the difference between the price of day `n` and `n+window_length`\n",
    "\n",
    "`signal_ts = pd.DataFrame({underlying_obj_name: signal_ts})`\n",
    "transform the series to DataFrame with the colomn name equals `obj.name`\n",
    "\n",
    "`signal_ts = np.sign(signal_ts).dropna()`\n",
    "get the sign of the difference between each two days, and drop any missing data\n",
    "\n",
    "`signal_obj = lib.from_ts(signal_ts)`\n",
    "Create signal object, can be passed around between researchers\n",
    "```\n",
    "return sig.SignalStrategy(\n",
    "        start_date=dtm.date(2010, 1, 4),\n",
    "        currency='USD',\n",
    "        signal_name=signal_obj.name,\n",
    "        rebalance_frequency='EOM',\n",
    "        allocation_function=lib.allocation.identity,\n",
    "        leverage=1,\n",
    "    )\n",
    "```\n",
    "\n",
    "input `start date`, `currency`, `signal name`, `rebalance frequency`, `allocation function` and `leverage` to the signal strategy function and we get `SignalStrategy`"
   ]
  },
  {
   "cell_type": "code",
   "execution_count": 54,
   "metadata": {},
   "outputs": [],
   "source": [
    "import numpy as np\n",
    "import pandas as pd\n",
    "import sigtech.framework.signal.library as lib\n",
    "\n",
    "\n",
    "def construct_momentum_strategy(underlying_obj_name: str, window_length: int):\n",
    "    ''' Constructs a SMA-based momentum strategy with a given window length. '''\n",
    "\n",
    "    # Get return\n",
    "    signal_ts = sig.obj.get(underlying_obj_name).history().diff(window_length)\n",
    "\n",
    "    # Create df with column name equal to underlying object name\n",
    "    signal_ts = pd.DataFrame({underlying_obj_name: signal_ts})\n",
    "\n",
    "    # Get sign of returns\n",
    "    signal_ts = np.sign(signal_ts).dropna()\n",
    "\n",
    "    # Create signal object, can be passed around between researchers\n",
    "    signal_obj = lib.from_ts(signal_ts)\n",
    "\n",
    "    return sig.SignalStrategy(\n",
    "        start_date=dtm.date(2010, 1, 4),\n",
    "        currency='USD',\n",
    "        signal_name=signal_obj.name,\n",
    "        rebalance_frequency='EOM',\n",
    "        allocation_function=lib.allocation.identity,\n",
    "        leverage=1,\n",
    "    )"
   ]
  },
  {
   "cell_type": "markdown",
   "metadata": {},
   "source": [
    "In the next code snippet, `import sharp_ratio` is used to compute sharpe_ratio\n",
    "\n",
    "`import pyplot` to plot data\n",
    "\n",
    "And set plot style parameter  to `ggplot`\n"
   ]
  },
  {
   "cell_type": "code",
   "execution_count": 55,
   "metadata": {},
   "outputs": [],
   "source": [
    "from sigtech.framework.analytics.performance.metrics import sharpe_ratio\n",
    "import matplotlib.pyplot as plt\n",
    "plt.style.use('ggplot')"
   ]
  },
  {
   "cell_type": "markdown",
   "metadata": {},
   "source": [
    "In the following code, `x` is used to generate window lengths as powers of 2"
   ]
  },
  {
   "cell_type": "code",
   "execution_count": 57,
   "metadata": {},
   "outputs": [],
   "source": [
    "x = [2**i for i in range(3, 12)]"
   ]
  },
  {
   "cell_type": "markdown",
   "metadata": {},
   "source": [
    "`y` is used to generate resulting Sharpe ratios and `construct_momentum_strategy(ho_rf_usd_strat.name, w).history()`\n",
    "is the value of the strategy"
   ]
  },
  {
   "cell_type": "code",
   "execution_count": 58,
   "metadata": {},
   "outputs": [],
   "source": [
    "y = [sharpe_ratio(\n",
    "    construct_momentum_strategy(ho_rf_usd_strat.name, w).history())\n",
    "    for w in x]"
   ]
  },
  {
   "cell_type": "markdown",
   "metadata": {},
   "source": [
    "The next code snippet is used to plot results and annotate the resulting chart with appropiate lables and title"
   ]
  },
  {
   "cell_type": "code",
   "execution_count": 62,
   "metadata": {},
   "outputs": [
    {
     "data": {
      "text/plain": [
       "<matplotlib.lines.Line2D at 0x7f46c574d3d0>"
      ]
     },
     "execution_count": 62,
     "metadata": {},
     "output_type": "execute_result"
    },
    {
     "data": {
      "image/png": "[encoded data removed]",
      "text/plain": [
       "<Figure size 432x288 with 1 Axes>"
      ]
     },
     "metadata": {},
     "output_type": "display_data"
    }
   ],
   "source": [
    "fig, ax = plt.subplots()\n",
    "ax.scatter(x, y)\n",
    "ax.set_title('Sharpe versus Momentum Window Length')\n",
    "ax.set_xlabel('Momentum Window Length')\n",
    "ax.set_ylabel('Strategy Sharpe')\n",
    "ax.axhline(y=0., linestyle='--')"
   ]
  },
  {
   "cell_type": "markdown",
   "metadata": {},
   "source": [
    "Momentum and Mean Reversion - varying window lengths"
   ]
  },
  {
   "cell_type": "markdown",
   "metadata": {},
   "source": [
    "In the following code, `calculate_sharpe_mmr_strategy` is a function which calculate the Sharpe for a combined Momentum and Mean Reversion strategy\n",
    "\n",
    "There are three parameters of the two strategy, `underlying_obj_name`, `momentum_window_length` and `meanrev_window_length`.\n",
    "\n",
    "In this function this is first an if statement that exclude the situation which two window length are the same. \n",
    "\n",
    "`obj_history = sig.obj.get(underlying_obj_name).history()` Get the history of underlyer and stored as `obj_history`\n",
    "\n",
    "`signal_momentum`is the momentum signal which is set to equal average of history of underlyer rolling percentage change using window as `momentum_window_length` days \n",
    "\n",
    "`signal_meanrev `is the meanrev signal which is set to equal -1 * average of history of underlyer rolling percentage change using window as `meanrev_window_length` days\n",
    "\n",
    "`signal_ts` is set to be the sum of momentum and meanrev signal\n",
    "\n",
    "`signal_ts = pd.DataFrame({underlying_obj_name: signal_ts})`transform `signal_ts` from time series to dataframe\n",
    "\n",
    "`signal_ts = np.sign(signal_ts).dropna()`get the signal and drop any missing data\n",
    "\n",
    "`signal_obj = lib.from_ts(signal_ts)`create the signal object which can be passed around between researchers\n",
    "\n",
    "use `sig.SignalStrategy` to get the strategy with the signal we get from above\n",
    "\n",
    "Then we put the stratage into the sharpe ratio function and return the sharpe ratio"
   ]
  },
  {
   "cell_type": "code",
   "execution_count": 80,
   "metadata": {},
   "outputs": [],
   "source": [
    "def calculate_sharpe_mmr_strategy(\n",
    "        underlying_obj_name: str,\n",
    "        momentum_window_length: int,\n",
    "        meanrev_window_length: int):\n",
    "    \"\"\" Constructs a combined Momentum and Mean Reversion strategy on a given underlying. \"\"\"\n",
    "\n",
    "    # Identical lengths of windows will cancel out, ignore them\n",
    "    if momentum_window_length == meanrev_window_length:\n",
    "        return 0.\n",
    "\n",
    "    # Get history of underlyer\n",
    "    obj_history = sig.obj.get(underlying_obj_name).history()\n",
    "\n",
    "    # Create momentum and mean reversion signals and combine them\n",
    "    signal_momentum = obj_history.pct_change().rolling(\n",
    "        window=momentum_window_length).mean()\n",
    "    signal_meanrev = -obj_history.pct_change().rolling(\n",
    "        window=meanrev_window_length).mean()\n",
    "    signal_ts = signal_momentum + signal_meanrev\n",
    "\n",
    "    # Create df with column name equal to underlying object name\n",
    "    signal_ts = pd.DataFrame({underlying_obj_name: signal_ts})\n",
    "\n",
    "    # Get sign of returns\n",
    "    signal_ts = np.sign(signal_ts).dropna()\n",
    "\n",
    "    # Create signal object, can be passed around between researchers\n",
    "    signal_obj = lib.from_ts(signal_ts)\n",
    "\n",
    "    strategy = sig.SignalStrategy(\n",
    "        start_date=dtm.date(2010, 1, 4),\n",
    "        currency='USD',\n",
    "        signal_name=signal_obj.name,\n",
    "        rebalance_frequency='EOM',\n",
    "        allocation_function=lib.allocation.identity,\n",
    "        leverage=1,\n",
    "    )\n",
    "\n",
    "    return sharpe_ratio(strategy.history())"
   ]
  },
  {
   "cell_type": "markdown",
   "metadata": {},
   "source": [
    "The rest of the code plot the 2D plot of their Sharpe ratios"
   ]
  },
  {
   "cell_type": "markdown",
   "metadata": {},
   "source": [
    "`mom_ws` and `mr_ws` are used to generate window lengths in specific ranges\n",
    "\n",
    "momemtom window length = [8, 16, 32, 64, 128, 256, 512, 1024, 2048]\n",
    "\n",
    "mean reversion window length = [2, 4, 6, 8, 10, 12, 14, 16, 18, 20]"
   ]
  },
  {
   "cell_type": "code",
   "execution_count": 78,
   "metadata": {},
   "outputs": [
    {
     "name": "stdout",
     "output_type": "stream",
     "text": [
      "[8, 16, 32, 64, 128, 256, 512, 1024, 2048] [2, 4, 6, 8, 10, 12, 14, 16, 18, 20]\n"
     ]
    }
   ],
   "source": [
    "mom_ws = [2**i for i in range(3, 12)]\n",
    "mr_ws = range(2, 21, 2)"
   ]
  },
  {
   "cell_type": "markdown",
   "metadata": {},
   "source": [
    "Then `z` is used to generate resulting Sharpe ratios in a 2D array"
   ]
  },
  {
   "cell_type": "code",
   "execution_count": 81,
   "metadata": {},
   "outputs": [
    {
     "name": "stdout",
     "output_type": "stream",
     "text": [
      "[[-0.11460318 -0.05064543  0.09247697  0.10915541 -0.02281873 -0.03258043\n",
      "   0.01493898 -0.08678894 -0.50364628]\n",
      " [-0.53043746 -0.1952968  -0.24789907 -0.49275949 -0.3620112  -0.39278044\n",
      "  -0.05797876 -0.1349541  -0.23808947]\n",
      " [ 0.07110059  0.09343443  0.03390131 -0.0504905  -0.00737962 -0.02505871\n",
      "   0.01037422 -0.1767304  -0.35773994]\n",
      " [ 0.         -0.04758924  0.39371092  0.29905479 -0.01393832 -0.09333263\n",
      "   0.04462036 -0.10555486 -0.20637012]\n",
      " [-0.52075996 -0.32227854 -0.01070313 -0.25961582 -0.38355432 -0.40029214\n",
      "  -0.42939819 -0.41621644 -0.35164601]\n",
      " [-0.47683266 -0.32301924 -0.1325069  -0.35559479 -0.61522442 -0.40814343\n",
      "  -0.32315054 -0.3523334  -0.39910969]\n",
      " [-0.06182232 -0.51499094 -0.12452548 -0.40375168 -0.52938498 -0.28166809\n",
      "  -0.3756179  -0.47681264 -0.19114873]\n",
      " [ 0.05518984  0.         -0.01964095  0.05617371 -0.40126736 -0.02045896\n",
      "  -0.31586094 -0.22342877 -0.16029113]\n",
      " [-0.17209913 -0.31768743 -0.08133265 -0.65360549 -0.51796106 -0.22072063\n",
      "  -0.51199297 -0.51154593 -0.16029113]\n",
      " [-0.37484307 -0.50297154 -0.0338022  -0.59627712 -0.36391946 -0.26414667\n",
      "  -0.50709202 -0.36889043 -0.15080572]]\n"
     ]
    }
   ],
   "source": [
    "z = np.matrix([[calculate_sharpe_mmr_strategy(ho_rf_usd_strat.name, w1, w2)\n",
    "                for w1 in mom_ws] for w2 in mr_ws])\n",
    "print(z)"
   ]
  },
  {
   "cell_type": "markdown",
   "metadata": {},
   "source": [
    "And last, we plot results and annotate chart with the appropriate labels and titles"
   ]
  },
  {
   "cell_type": "code",
   "execution_count": 82,
   "metadata": {},
   "outputs": [
    {
     "data": {
      "text/plain": [
       "Text(0, 0.5, 'Sharpe Ratio')"
      ]
     },
     "execution_count": 82,
     "metadata": {},
     "output_type": "execute_result"
    },
    {
     "data": {
      "image/png": "[encoded data removed]",
      "text/plain": [
       "<Figure size 432x288 with 2 Axes>"
      ]
     },
     "metadata": {},
     "output_type": "display_data"
    }
   ],
   "source": [
    "fig, ax = plt.subplots()\n",
    "plot = ax.contourf(mom_ws, mr_ws, z)\n",
    "ax.set_title('Sharpe versus Momentum and Mean Reversion Window Lengths')\n",
    "ax.set_xlabel('Momentum Window Length')\n",
    "ax.set_ylabel('Mean Reversion Window Length')\n",
    "cbar = fig.colorbar(plot, ax=ax)\n",
    "cbar.ax.set_ylabel('Sharpe Ratio')"
   ]
  },
  {
   "cell_type": "code",
   "execution_count": null,
   "metadata": {},
   "outputs": [],
   "source": []
  },
  {
   "cell_type": "code",
   "execution_count": null,
   "metadata": {},
   "outputs": [],
   "source": []
  },
  {
   "cell_type": "code",
   "execution_count": null,
   "metadata": {},
   "outputs": [],
   "source": []
  },
  {
   "cell_type": "code",
   "execution_count": null,
   "metadata": {},
   "outputs": [],
   "source": []
  },
  {
   "cell_type": "code",
   "execution_count": null,
   "metadata": {},
   "outputs": [],
   "source": []
  },
  {
   "cell_type": "code",
   "execution_count": null,
   "metadata": {},
   "outputs": [],
   "source": []
  },
  {
   "cell_type": "code",
   "execution_count": null,
   "metadata": {},
   "outputs": [],
   "source": []
  },
  {
   "cell_type": "code",
   "execution_count": null,
   "metadata": {},
   "outputs": [],
   "source": []
  },
  {
   "cell_type": "code",
   "execution_count": null,
   "metadata": {},
   "outputs": [],
   "source": []
  },
  {
   "cell_type": "code",
   "execution_count": null,
   "metadata": {},
   "outputs": [],
   "source": []
  },
  {
   "cell_type": "code",
   "execution_count": null,
   "metadata": {},
   "outputs": [],
   "source": []
  },
  {
   "cell_type": "code",
   "execution_count": null,
   "metadata": {},
   "outputs": [],
   "source": []
  }
 ],
 "metadata": {
  "kernelspec": {
   "display_name": "Python 3",
   "language": "python",
   "name": "python3"
  },
  "language_info": {
   "codemirror_mode": {
    "name": "ipython",
    "version": 3
   },
   "file_extension": ".py",
   "mimetype": "text/x-python",
   "name": "python",
   "nbconvert_exporter": "python",
   "pygments_lexer": "ipython3",
   "version": "3.7.4"
  },
  "sig_file_name": "bfea1bb7-6a6e-4e62-9af1-38e4ff4d9b0d/file/702§hw1_1.ipynb"
 },
 "nbformat": 4,
 "nbformat_minor": 2
}
